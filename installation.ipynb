{
 "cells": [
  {
   "cell_type": "markdown",
   "metadata": {},
   "source": [
    "# Installation\n",
    "\n",
    "1. Clone or download this repository\n",
    "\n",
    "    ```\n",
    "    git clone https://github.com/drugdesign/FMOe.git $SOME_DIRECTORY\n",
    "    ```\n",
    "\n",
    "    or\n",
    "\n",
    "    download source code from github release(https://github.com/drugdesign/FMOe/releases/latest)\n",
    "\n",
    "\n",
    "2. Write the code running loader.svl to `$HOME/moefiles/start.svl`\n",
    "\n",
    "    for example:\n",
    "\n",
    "    ```$HOME/moefiles/start.svl\n",
    "    local function main []\n",
    "        run '$FMOE_INSTALL_PATH/loader.svl';\n",
    "    endfunction\n",
    "    ```\n",
    "\n",
    "    ```$HOME/moefiles/start.svl\n",
    "    # if you want to set the templates path\n",
    "    local function main []\n",
    "        run ['$FMOE_INSTALL_PATH/loader.svl', [templates: '/path/to/your/templates/directory']];\n",
    "    endfunction\n",
    "    ```\n",
    "    \n"
   ]
  }
 ],
 "metadata": {
  "language_info": {
   "name": "python"
  }
 },
 "nbformat": 4,
 "nbformat_minor": 2
}
