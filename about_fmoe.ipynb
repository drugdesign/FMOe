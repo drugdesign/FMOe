{
 "cells": [
  {
   "cell_type": "markdown",
   "metadata": {},
   "source": [
    "# About FMOe\n",
    "\n",
    "FMOe is MOE extension for \n",
    "\n",
    "FMOe Users can do following works.\n",
    "\n",
    "- prepare structure \n",
    "- help manual or semi-auto fragmentation\n",
    "- visualize results of FMO calculation\n",
    "\n"
   ]
  }
 ],
 "metadata": {
  "language_info": {
   "codemirror_mode": {
    "name": "ipython",
    "version": 3
   },
   "file_extension": ".py",
   "mimetype": "text/x-python",
   "name": "python",
   "nbconvert_exporter": "python",
   "pygments_lexer": "ipython3",
   "version": 3
  }
 },
 "nbformat": 4,
 "nbformat_minor": 2
}
